{
 "cells": [
  {
   "cell_type": "markdown",
   "metadata": {},
   "source": [
    "### **1. Trasformare cicli in list comprehension**\n",
    "\n",
    "Fai tre esempi di cicli producono una lista e poi riscrivi lo stesso codice usando la list comprehension"
   ]
  },
  {
   "cell_type": "code",
   "execution_count": null,
   "metadata": {},
   "outputs": [],
   "source": [
    "#Num Pari\n",
    "values = []\n",
    "for i in range(0,10):\n",
    "    if((i % 2) == 0):\n",
    "        values.append(i)\n",
    "print(values)\n",
    "\n",
    "values = [i for i in range(0,9) if((i % 2)  ==  0)]\n",
    "print(values)\n",
    "\n",
    "print(\"     ---     \")\n",
    "\n",
    "#Num Dispari\n",
    "values = []\n",
    "for i in range(0,10):\n",
    "    if((i % 2) == 1):\n",
    "        values.append(i)\n",
    "print(values)\n",
    "\n",
    "values = [i for i in range(0,10) if((i % 2)  ==  1)]\n",
    "print(values)\n",
    "\n",
    "print(\"     ---     \")\n",
    "\n",
    "#Quadrato dei Numeri da 0 a 9\n",
    "values = []\n",
    "for i in range(0,10):\n",
    "    values.append(i**2)\n",
    "print(values)\n",
    "\n",
    "values = [i**2 for i in range(0,10)]\n",
    "print(values)"
   ]
  },
  {
   "cell_type": "markdown",
   "metadata": {},
   "source": [
    "### **2. Vettore di Numeri Primi**\n",
    "\n",
    "1. **Crea un vettore** contenente tutti i numeri primi compresi tra **0 e 10**  \n",
    "   _(Puoi scriverli direttamente nell'array)._\n",
    "\n",
    "2. **Conta quanti numeri ci sono nel vettore** utilizzando la funzione `len()`.  **Ottieni lo stesso numero** accedendo all'attributo `.size` del vettore.\n",
    "\n",
    "3. Quale pensi sia il tipo di dato (`dtype`) del vettore?  Prova a rispondere senza eseguire il codice e Verifica la tua risposta accedendo all'attributo `.dtype` del vettore\n",
    "\n",
    "4. Scrivi l'array usando una list comprehension che controlla che i numeri siano primi. "
   ]
  },
  {
   "cell_type": "code",
   "execution_count": null,
   "metadata": {},
   "outputs": [],
   "source": [
    "import numpy as np\n",
    "\n",
    "array = np.array([2,3,5,7])\n",
    "print(array)\n",
    "print(\"len(): {}\".format(len(array)))\n",
    "print(\".size(): {}\".format(len(array)))\n",
    "print(array.dtype)\n",
    "\n",
    "array = np.array([i for i in range(2, 10) if all(i % j != 0 for j in range(2, i))])\n",
    "print(array)"
   ]
  },
  {
   "cell_type": "markdown",
   "metadata": {},
   "source": [
    "### **3.  Operazioni su array**\n",
    "Crea un array **a**, 1D (senza digitarlo esplicitamente), e genera due nuovi array **b**, contenente una sottostringa a piacere e **c** che è il reverse dell'array **a** (esempio [1,2,3] diventa [3,2,1]) .  Dividi l'array **a** per l'array **c**. Fai la stessa cosa per una lista."
   ]
  },
  {
   "cell_type": "code",
   "execution_count": 1,
   "metadata": {},
   "outputs": [
    {
     "name": "stdout",
     "output_type": "stream",
     "text": [
      "a: [1 2 3 4 5]\n",
      "b: [2]\n",
      "c: [5 4 3 2 1]\n",
      "a/c (Numpy): [0.2 0.5 1.  2.  5. ]\n",
      "a/c (List): [0.2, 0.5, 1.0, 2.0, 5.0]\n"
     ]
    }
   ],
   "source": [
    "import numpy as np\n",
    "\n",
    "a = np.arange(1,6)\n",
    "print(\"a: {}\".format(a))\n",
    "\n",
    "b = a[1:2]\n",
    "print(\"b: {}\".format(b))\n",
    "\n",
    "c = a[::-1]\n",
    "print(\"c: {}\".format(c))\n",
    "print(\"a/c (Numpy): {}\".format(a / c))\n",
    "\n",
    "a_list = list(a)\n",
    "c_list = list(reversed(a_list))\n",
    "result = [float(x / y) for x,y in zip(a_list, c_list)]\n",
    "\n",
    "print(\"a/c (List): {}\".format(result))"
   ]
  }
 ],
 "metadata": {
  "kernelspec": {
   "display_name": "base",
   "language": "python",
   "name": "python3"
  },
  "language_info": {
   "codemirror_mode": {
    "name": "ipython",
    "version": 3
   },
   "file_extension": ".py",
   "mimetype": "text/x-python",
   "name": "python",
   "nbconvert_exporter": "python",
   "pygments_lexer": "ipython3",
   "version": "3.12.3"
  }
 },
 "nbformat": 4,
 "nbformat_minor": 2
}
